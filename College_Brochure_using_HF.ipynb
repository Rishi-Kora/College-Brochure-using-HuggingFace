{
 "cells": [
  {
   "cell_type": "code",
   "execution_count": 1,
   "id": "d5b08506-dc8b-4443-9201-5f1848161363",
   "metadata": {},
   "outputs": [],
   "source": [
    "# imports\n",
    "# If these fail, please check you're running from an 'activated' environment with (llms) in the command prompt\n",
    "\n",
    "import os\n",
    "import requests\n",
    "import json\n",
    "from typing import List\n",
    "from dotenv import load_dotenv\n",
    "from bs4 import BeautifulSoup\n",
    "from IPython.display import Markdown, display, update_display\n",
    "from openai import OpenAI\n",
    "import gradio as gr"
   ]
  },
  {
   "cell_type": "code",
   "execution_count": 2,
   "id": "fc5d8880-f2ee-4c06-af16-ecbc0262af61",
   "metadata": {},
   "outputs": [
    {
     "name": "stdout",
     "output_type": "stream",
     "text": [
      "API key looks good so far\n"
     ]
    }
   ],
   "source": [
    "# Initialize and constants\n",
    "\n",
    "load_dotenv(override=True)\n",
    "api_key = os.getenv('OPENAI_API_KEY')\n",
    "\n",
    "if api_key and api_key.startswith('sk-proj-') and len(api_key)>10:\n",
    "    print(\"API key looks good so far\")\n",
    "else:\n",
    "    print(\"There might be a problem with your API key? Please visit the troubleshooting notebook!\")\n",
    "    \n",
    "MODEL = 'gpt-4o-mini'\n",
    "openai = OpenAI()"
   ]
  },
  {
   "cell_type": "code",
   "execution_count": 40,
   "id": "6ab83d92-d36b-4ce0-8bcc-5bb4c2f8ff23",
   "metadata": {},
   "outputs": [],
   "source": [
    "system_prompt = \"You are a web content extractor specialized in reading and understanding university and college websites. Your job is to identify and list all available courses, the description and other information related to it offered by the institution, including undergraduate and postgraduate programs. If the site includes grouped data like faculties, departments, or course categories, preserve that structure in the output.\""
   ]
  },
  {
   "cell_type": "code",
   "execution_count": 41,
   "id": "6403e057-6f37-4cc5-bc42-208d5fb31ea1",
   "metadata": {},
   "outputs": [],
   "source": [
    "def get_brochure_courses_user_prompt(university_name, url):\n",
    "    user_prompt = \"\"\"Please extract and list all the courses available from the following university website content:\n",
    "\n",
    "Organize the output as follows:\n",
    "- Undergraduate Courses\n",
    "- Postgraduate Courses\n",
    "- Other Programs (Diplomas, Certificates, etc.)\n",
    "\n",
    "If a course includes a link, keep it with the course name.\"\"\"\n",
    "    user_prompt += get_all_details(url)\n",
    "    user_prompt = user_prompt[:5000]  # Truncate if more than 5,000 characters\n",
    "    return user_prompt"
   ]
  },
  {
   "cell_type": "code",
   "execution_count": 42,
   "id": "e44de579-4a1a-4e6a-a510-20ea3e4b8d46",
   "metadata": {},
   "outputs": [],
   "source": [
    "def create_brochure(company_name, url):\n",
    "    response = openai.chat.completions.create(\n",
    "        model=MODEL,\n",
    "        messages=[\n",
    "            {\"role\": \"system\", \"content\": system_prompt},\n",
    "            {\"role\": \"user\", \"content\": get_brochure_courses_user_prompt(university_name, url)}\n",
    "          ],\n",
    "    )\n",
    "    result = response.choices[0].message.content"
   ]
  },
  {
   "cell_type": "code",
   "execution_count": 43,
   "id": "4fb4b661",
   "metadata": {},
   "outputs": [],
   "source": [
    "def stream_gpt(prompt):\n",
    "    messages = [\n",
    "        {\"role\": \"system\", \"content\": system_prompt},\n",
    "        {\"role\": \"user\", \"content\": prompt}\n",
    "      ]\n",
    "    stream = openai.chat.completions.create(\n",
    "        model='gpt-4o-mini',\n",
    "        messages=messages,\n",
    "        stream=True\n",
    "    )\n",
    "    result = \"\"\n",
    "    for chunk in stream:\n",
    "        result += chunk.choices[0].delta.content or \"\"\n",
    "        yield result"
   ]
  },
  {
   "cell_type": "code",
   "execution_count": 44,
   "id": "1faeb355",
   "metadata": {},
   "outputs": [],
   "source": [
    "def stream_claude(prompt):\n",
    "    result = claude.messages.stream(\n",
    "        model=\"claude-3-haiku-20240307\",\n",
    "        max_tokens=1000,\n",
    "        temperature=0.7,\n",
    "        system=system_prompt,\n",
    "        messages=[\n",
    "            {\"role\": \"user\", \"content\": prompt},\n",
    "        ],\n",
    "    )\n",
    "    response = \"\"\n",
    "    with result as stream:\n",
    "        for text in stream.text_stream:\n",
    "            response += text or \"\"\n",
    "            yield response"
   ]
  },
  {
   "cell_type": "code",
   "execution_count": 45,
   "id": "0c9b3156",
   "metadata": {},
   "outputs": [],
   "source": [
    "def get_website_text(url):\n",
    "    headers = {\n",
    "        \"User-Agent\": (\n",
    "            \"Mozilla/5.0 (Windows NT 10.0; Win64; x64) AppleWebKit/537.36 \"\n",
    "            \"(KHTML, like Gecko) Chrome/117.0.0.0 Safari/537.36\"\n",
    "        )\n",
    "    }\n",
    "    response = requests.get(url, headers=headers)\n",
    "    soup = BeautifulSoup(response.content, \"html.parser\")\n",
    "\n",
    "    # Remove irrelevant tags\n",
    "    for tag in soup([\"script\", \"style\", \"img\", \"input\", \"nav\", \"footer\"]):\n",
    "        tag.decompose()\n",
    "\n",
    "    # Extract text from body\n",
    "    return soup.body.get_text(separator=\"\\n\", strip=True) if soup.body else \"No content found.\""
   ]
  },
  {
   "cell_type": "code",
   "execution_count": 48,
   "id": "51db0e49-f261-4137-aabe-92dd601f7725",
   "metadata": {},
   "outputs": [],
   "source": [
    "def stream_courses(university_name, url, model):\n",
    "    prompt = (\n",
    "        f\"You are a specialized web content extractor focused on university websites. \"\n",
    "        f\"Your task is to identify and list all the academic programs offered by {university_name}.\\n\"\n",
    "        f\"Here is the content of their landing page and other relevant sections:\\n\"\n",
    "    )\n",
    "    prompt += get_website_text(url)\n",
    "    prompt = prompt[:20000]  \n",
    "\n",
    "    if model == \"GPT\":\n",
    "        result = stream_gpt(prompt)\n",
    "    elif model == \"Claude\":\n",
    "        result = stream_claude(prompt)\n",
    "    else:\n",
    "        raise ValueError(\"Unknown model selected. Choose 'GPT' or 'Claude'.\")\n",
    "\n",
    "    yield from result"
   ]
  },
  {
   "cell_type": "code",
   "execution_count": 49,
   "id": "c6e4efbb-fdc0-4272-ae52-74528687ad7f",
   "metadata": {},
   "outputs": [
    {
     "name": "stdout",
     "output_type": "stream",
     "text": [
      "* Running on local URL:  http://127.0.0.1:7887\n",
      "* Running on public URL: https://2c11d51342a4311df3.gradio.live\n",
      "\n",
      "This share link expires in 1 week. For free permanent hosting and GPU upgrades, run `gradio deploy` from the terminal in the working directory to deploy to Hugging Face Spaces (https://huggingface.co/spaces)\n"
     ]
    },
    {
     "data": {
      "text/html": [
       "<div><iframe src=\"https://2c11d51342a4311df3.gradio.live\" width=\"100%\" height=\"500\" allow=\"autoplay; camera; microphone; clipboard-read; clipboard-write;\" frameborder=\"0\" allowfullscreen></iframe></div>"
      ],
      "text/plain": [
       "<IPython.core.display.HTML object>"
      ]
     },
     "metadata": {},
     "output_type": "display_data"
    },
    {
     "data": {
      "text/plain": []
     },
     "execution_count": 49,
     "metadata": {},
     "output_type": "execute_result"
    }
   ],
   "source": [
    "view = gr.Interface(\n",
    "    fn=stream_courses,  \n",
    "    inputs=[\n",
    "        gr.Textbox(label=\"University or College Name:\"),\n",
    "        gr.Textbox(label=\"Website URL (include http:// or https://):\"),\n",
    "        gr.Dropdown([\"GPT\", \"Claude\"], label=\"Select Model\")\n",
    "    ],\n",
    "    outputs=gr.Markdown(label=\"Extracted Courses:\"),\n",
    "    flagging_mode=\"never\"\n",
    ")\n",
    "\n",
    "view.launch(share=True)"
   ]
  },
  {
   "cell_type": "code",
   "execution_count": 24,
   "id": "56bf0ae3-ee9d-4a72-9cd6-edcac67ceb6d",
   "metadata": {},
   "outputs": [
    {
     "name": "stdout",
     "output_type": "stream",
     "text": [
      "Found links: {'links': [{'type': 'about page', 'url': 'https://www.anthropic.com/company'}, {'type': 'careers page', 'url': 'https://www.anthropic.com/careers'}, {'type': 'news page', 'url': 'https://www.anthropic.com/news'}, {'type': 'research page', 'url': 'https://www.anthropic.com/research'}, {'type': 'team page', 'url': 'https://www.anthropic.com/team'}]}\n"
     ]
    },
    {
     "data": {
      "text/markdown": [
       "\n",
       "# Welcome to Anthropic\n",
       "\n",
       "## Overview\n",
       "At **Anthropic**, we are dedicated to building AI systems that prioritize safety, reliability, and human well-being. With our leading AI model, **Claude 3.7 Sonnet**, we strive to demonstrate what responsible AI development looks like in practice.\n",
       "\n",
       "### Our Mission\n",
       "We believe that AI has the potential to greatly impact society. Our purpose is to create powerful AI tools that serve humanity's long-term well-being by focusing on safety and interpretability in AI systems. \n",
       "\n",
       "---\n",
       "\n",
       "## Our Commitment to AI Safety\n",
       "- **Safety is a Science**: We treat AI safety as a systematic science, conducting research and applying it to our products, continually refining our approaches based on rigorous testing and real-world applicability.\n",
       "- **Interdisciplinary Team**: Our team combines talents from various fields, including research, engineering, policy, and operations, allowing us to tackle the multifaceted challenges of AI safety.\n",
       "- **Collaboration**: We engage with different sectors - from civil society to industry leaders - to promote a holistic approach to AI safety, recognizing that we are one part of a larger puzzle.\n",
       "\n",
       "---\n",
       "\n",
       "## Products & Solutions\n",
       "- **Claude**: Our flagship AI model designed to be reliable, interpretable, and steerable. Whether you're looking to build applications or enhance processes, Claude serves as a trusted partner.\n",
       "- **API Access**: Create custom AI-powered applications with ACCESS to Claude through our user-friendly API.\n",
       "- **Anthropic Academy**: Our educational platform offers resources to help users learn how to best utilize Claude for diverse needs.\n",
       "\n",
       "---\n",
       "\n",
       "## Company Culture\n",
       "At Anthropic, we foster a culture of collaboration and continuous learning. We believe every team member plays a crucial role in advancing our mission. Our diverse team brings a wealth of experience from various backgrounds, creating an environment rich in innovation and creativity.\n",
       "\n",
       "---\n",
       "\n",
       "## Career Opportunities\n",
       "**Want to join us in building the future of safe AI?** We are looking for passionate and talented individuals to become part of our team. Our roles include:\n",
       "\n",
       "- Researchers\n",
       "- Engineers\n",
       "- Policy Experts\n",
       "- Business Operations\n",
       "\n",
       "Check our website for open roles and start your journey with us!\n",
       "\n",
       "---\n",
       "\n",
       "## Be a Part of the Future\n",
       "At Anthropic, we are committed to creating AI systems that put safety and human benefits at the forefront. Whether you are a customer, investor, or prospective recruit, we invite you to join us in shaping the future of AI.\n",
       "\n",
       "**Learn more or get in touch at [Anthropic.com](https://www.anthropic.com)**\n",
       "\n",
       "© 2025 Anthropic PBC\n",
       "\n"
      ],
      "text/plain": [
       "<IPython.core.display.Markdown object>"
      ]
     },
     "metadata": {},
     "output_type": "display_data"
    }
   ],
   "source": [
    "stream_brochure(\"Kora AI Tech\", \"https://www.koraaitech.com/\")"
   ]
  },
  {
   "cell_type": "code",
   "execution_count": 25,
   "id": "fdb3f8d8-a3eb-41c8-b1aa-9f60686a653b",
   "metadata": {},
   "outputs": [
    {
     "name": "stdout",
     "output_type": "stream",
     "text": [
      "Found links: {'links': [{'type': 'about page', 'url': 'https://huggingface.co/huggingface'}, {'type': 'careers page', 'url': 'https://apply.workable.com/huggingface/'}, {'type': 'enterprise page', 'url': 'https://huggingface.co/enterprise'}, {'type': 'pricing page', 'url': 'https://huggingface.co/pricing'}, {'type': 'blog page', 'url': 'https://huggingface.co/blog'}, {'type': 'documentation page', 'url': 'https://huggingface.co/docs'}]}\n"
     ]
    },
    {
     "data": {
      "text/markdown": [
       "# Hugging Face Company Brochure\n",
       "\n",
       "---\n",
       "\n",
       "## Who We Are\n",
       "\n",
       "### Hugging Face: Building the Future of AI\n",
       "\n",
       "Hugging Face is at the forefront of the artificial intelligence community, dedicated to creating a collaborative platform where machine learning enthusiasts and professionals can come together. Our mission focuses on making advanced AI technology accessible while fostering innovation in a vibrant open-source environment.\n",
       "\n",
       "---\n",
       "\n",
       "## What We Offer\n",
       "\n",
       "### Products and Services\n",
       "- **Models**: With over 1 million models available for various applications, we provide the tools you need to build sophisticated AI-driven applications.\n",
       "- **Datasets**: Access to a rich library of over 250,000 datasets tailored for machine learning tasks to facilitate research and development.\n",
       "- **Spaces**: A unique feature supporting unlimited public models and applications for seamless sharing and collaboration.\n",
       "- **Compute and Enterprise Solutions**: We offer paid compute resources starting at just $0.60/hour, along with enterprise-grade services starting at $20/user/month, ensuring secure and scalable solutions for businesses of all sizes.\n",
       "\n",
       "---\n",
       "\n",
       "## Our Community\n",
       "\n",
       "### Diverse Customer Base\n",
       "\n",
       "More than **50,000 organizations** are leveraging the power of Hugging Face, including leading companies like:\n",
       "- **Google**\n",
       "- **Amazon**\n",
       "- **Microsoft**\n",
       "- **Grammarly**\n",
       "- **Meta**\n",
       "\n",
       "Our community is passionate about AI and machine learning, enabling individuals and companies alike to innovate faster.\n",
       "\n",
       "### Join the Movement\n",
       "\n",
       "By becoming part of the Hugging Face community, you can learn, collaborate, and explore the many possibilities AI has to offer. \n",
       "\n",
       "---\n",
       "\n",
       "## Company Culture\n",
       "\n",
       "### Collaboration and Innovation\n",
       "\n",
       "Our work culture fosters inclusivity and collaboration, where every member is encouraged to share their ideas and work on projects that contribute to our mission. We believe in the power of open-source development and the importance of community contributions.\n",
       "\n",
       "---\n",
       "\n",
       "## Careers at Hugging Face\n",
       "\n",
       "**Join a Growing Team**\n",
       "\n",
       "We're always on the lookout for talents who share our passion for AI and innovation. We value diversity and strive to make our workplace a creative and inspiring environment for everyone. \n",
       "\n",
       "### Opportunities\n",
       "- **Roles**: From software engineering to product management and community engagement, we offer a variety of roles to suit different skill sets.\n",
       "- **Culture**: Work in a dynamic setting where your input matters, and where your skills can make a real difference in the AI landscape.\n",
       "\n",
       "*Explore available job opportunities on our [Careers page](https://huggingface.co/jobs).*\n",
       "\n",
       "---\n",
       "\n",
       "## Connect With Us\n",
       "\n",
       "- **Website**: [huggingface.co](https://huggingface.co)\n",
       "- **Twitter**: [@huggingface](https://twitter.com/huggingface)\n",
       "- **LinkedIn**: [huggingface](https://www.linkedin.com/company/huggingface)\n",
       "- **Discord**: Join our community for discussions and collaborations.\n",
       "\n",
       "---\n",
       "\n",
       "### Embrace the Future of AI with Hugging Face\n",
       "Join us on this exciting journey and be part of the community that is shaping the future of artificial intelligence!"
      ],
      "text/plain": [
       "<IPython.core.display.Markdown object>"
      ]
     },
     "metadata": {},
     "output_type": "display_data"
    }
   ],
   "source": [
    "# Try changing the system prompt to the humorous version when you make the Brochure for Hugging Face:\n",
    "\n",
    "stream_brochure(\"HuggingFace\", \"https://huggingface.co\")"
   ]
  },
  {
   "cell_type": "markdown",
   "id": "a27bf9e0-665f-4645-b66b-9725e2a959b5",
   "metadata": {},
   "source": [
    "<table style=\"margin: 0; text-align: left;\">\n",
    "    <tr>\n",
    "        <td style=\"width: 150px; height: 150px; vertical-align: middle;\">\n",
    "            <img src=\"../business.jpg\" width=\"150\" height=\"150\" style=\"display: block;\" />\n",
    "        </td>\n",
    "        <td>\n",
    "            <h2 style=\"color:#181;\">Business applications</h2>\n",
    "            <span style=\"color:#181;\">In this exercise we extended the Day 1 code to make multiple LLM calls, and generate a document.\n",
    "\n",
    "This is perhaps the first example of Agentic AI design patterns, as we combined multiple calls to LLMs. This will feature more in Week 2, and then we will return to Agentic AI in a big way in Week 8 when we build a fully autonomous Agent solution.\n",
    "\n",
    "Generating content in this way is one of the very most common Use Cases. As with summarization, this can be applied to any business vertical. Write marketing content, generate a product tutorial from a spec, create personalized email content, and so much more. Explore how you can apply content generation to your business, and try making yourself a proof-of-concept prototype. See what other students have done in the community-contributions folder -- so many valuable projects -- it's wild!</span>\n",
    "        </td>\n",
    "    </tr>\n",
    "</table>"
   ]
  },
  {
   "cell_type": "markdown",
   "id": "14b2454b-8ef8-4b5c-b928-053a15e0d553",
   "metadata": {},
   "source": [
    "<table style=\"margin: 0; text-align: left;\">\n",
    "    <tr>\n",
    "        <td style=\"width: 150px; height: 150px; vertical-align: middle;\">\n",
    "            <img src=\"../important.jpg\" width=\"150\" height=\"150\" style=\"display: block;\" />\n",
    "        </td>\n",
    "        <td>\n",
    "            <h2 style=\"color:#900;\">Before you move to Week 2 (which is tons of fun)</h2>\n",
    "            <span style=\"color:#900;\">Please see the week1 EXERCISE notebook for your challenge for the end of week 1. This will give you some essential practice working with Frontier APIs, and prepare you well for Week 2.</span>\n",
    "        </td>\n",
    "    </tr>\n",
    "</table>"
   ]
  },
  {
   "cell_type": "markdown",
   "id": "17b64f0f-7d33-4493-985a-033d06e8db08",
   "metadata": {},
   "source": [
    "<table style=\"margin: 0; text-align: left;\">\n",
    "    <tr>\n",
    "        <td style=\"width: 150px; height: 150px; vertical-align: middle;\">\n",
    "            <img src=\"../resources.jpg\" width=\"150\" height=\"150\" style=\"display: block;\" />\n",
    "        </td>\n",
    "        <td>\n",
    "            <h2 style=\"color:#f71;\">A reminder on 3 useful resources</h2>\n",
    "            <span style=\"color:#f71;\">1. The resources for the course are available <a href=\"https://edwarddonner.com/2024/11/13/llm-engineering-resources/\">here.</a><br/>\n",
    "            2. I'm on LinkedIn <a href=\"https://www.linkedin.com/in/eddonner/\">here</a> and I love connecting with people taking the course!<br/>\n",
    "            3. I'm trying out X/Twitter and I'm at <a href=\"https://x.com/edwarddonner\">@edwarddonner<a> and hoping people will teach me how it's done..  \n",
    "            </span>\n",
    "        </td>\n",
    "    </tr>\n",
    "</table>"
   ]
  },
  {
   "cell_type": "markdown",
   "id": "6f48e42e-fa7a-495f-a5d4-26bfc24d60b6",
   "metadata": {},
   "source": [
    "<table style=\"margin: 0; text-align: left;\">\n",
    "    <tr>\n",
    "        <td style=\"width: 150px; height: 150px; vertical-align: middle;\">\n",
    "            <img src=\"../thankyou.jpg\" width=\"150\" height=\"150\" style=\"display: block;\" />\n",
    "        </td>\n",
    "        <td>\n",
    "            <h2 style=\"color:#090;\">Finally! I have a special request for you</h2>\n",
    "            <span style=\"color:#090;\">\n",
    "                My editor tells me that it makes a MASSIVE difference when students rate this course on Udemy - it's one of the main ways that Udemy decides whether to show it to others. If you're able to take a minute to rate this, I'd be so very grateful! And regardless - always please reach out to me at ed@edwarddonner.com if I can help at any point.\n",
    "            </span>\n",
    "        </td>\n",
    "    </tr>\n",
    "</table>"
   ]
  },
  {
   "cell_type": "code",
   "execution_count": null,
   "id": "b8d3e1a1-ba54-4907-97c5-30f89a24775b",
   "metadata": {},
   "outputs": [],
   "source": []
  }
 ],
 "metadata": {
  "kernelspec": {
   "display_name": "Python 3 (ipykernel)",
   "language": "python",
   "name": "python3"
  },
  "language_info": {
   "codemirror_mode": {
    "name": "ipython",
    "version": 3
   },
   "file_extension": ".py",
   "mimetype": "text/x-python",
   "name": "python",
   "nbconvert_exporter": "python",
   "pygments_lexer": "ipython3",
   "version": "3.11.12"
  }
 },
 "nbformat": 4,
 "nbformat_minor": 5
}
